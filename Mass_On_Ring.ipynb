{
 "cells": [
  {
   "cell_type": "markdown",
   "metadata": {},
   "source": [
    "# Example using Sympy Mechanics Package\n",
    "## Mass on a Ring\n",
    "The equation of motion for \"Mass on a Ring\" problem as described in lecture notes 8 is derived by means of the Python package Sympy and the sub-package mechanics. Further information is found on http://www.sympy.org and http://docs.sympy.org/latest/modules/physics/mechanics/index.html."
   ]
  },
  {
   "cell_type": "markdown",
   "metadata": {},
   "source": [
    "## Set up environment\n",
    "First, the Sympy and the mechanics package is imported. init_vprinting is a function for printing of expressions generated in the sympy.physics vector package."
   ]
  },
  {
   "cell_type": "code",
   "execution_count": 1,
   "metadata": {
    "collapsed": true
   },
   "outputs": [],
   "source": [
    "#%% Import packages and set up vector printing\n",
    "import sympy as sp\n",
    "import sympy.physics.mechanics as me\n",
    "from sympy.physics.vector import init_vprinting\n",
    "init_vprinting()"
   ]
  },
  {
   "cell_type": "markdown",
   "metadata": {},
   "source": [
    "## Define triads, symbolics, generalized coordinates"
   ]
  },
  {
   "cell_type": "code",
   "execution_count": 7,
   "metadata": {
    "collapsed": true
   },
   "outputs": [],
   "source": [
    "# Define Reference Frames (Triads, cartesian)\n",
    "Inertial = me.ReferenceFrame('N') # Rotation omega about z-axis\n",
    "a = me.ReferenceFrame('a')\n",
    "b = me.ReferenceFrame('b')\n",
    "\n",
    "# Generalized Coordinates (time dependant symbols) and derivatives:\n",
    "phi = me.dynamicsymbols('varphi') # Defines a time dependant variable\n",
    "#phid = me.dynamicsymbols('varphi, theta', 1) # ... and its' 1st time derivative if needed in the expressions\n",
    "\n",
    "# Time independant variables:\n",
    "t, m, g, R, omega = sp.symbols('t, m, g, R, omega')\n",
    "\n",
    "#%%\n",
    "# Set relations between reference frames\n",
    "#help(a.orient)\n",
    "b.orient(Inertial, 'Axis', (omega*t, Inertial.z))\n",
    "a.orient(b, 'Body', [0,-phi,0], 'XYZ')"
   ]
  },
  {
   "cell_type": "markdown",
   "metadata": {},
   "source": [
    "## Checking the rotions\n",
    "The Direction Cosine Matrix of each frame may be printed by the following:"
   ]
  },
  {
   "cell_type": "code",
   "execution_count": 8,
   "metadata": {},
   "outputs": [
    {
     "data": {
      "image/png": "[encoded data removed]",
      "text/latex": [
       "$$\\left[\\begin{matrix}\\operatorname{cos}\\left(\\omega t\\right) & \\operatorname{sin}\\left(\\omega t\\right) & 0\\\\- \\operatorname{sin}\\left(\\omega t\\right) & \\operatorname{cos}\\left(\\omega t\\right) & 0\\\\0 & 0 & 1\\end{matrix}\\right]$$"
      ],
      "text/plain": [
       "⎡cos(ω⋅t)   sin(ω⋅t)  0⎤\n",
       "⎢                      ⎥\n",
       "⎢-sin(ω⋅t)  cos(ω⋅t)  0⎥\n",
       "⎢                      ⎥\n",
       "⎣    0         0      1⎦"
      ]
     },
     "execution_count": 8,
     "metadata": {},
     "output_type": "execute_result"
    }
   ],
   "source": [
    "# Checks:\n",
    "b.dcm(Inertial) # Direction Cosine Matrix"
   ]
  },
  {
   "cell_type": "code",
   "execution_count": 9,
   "metadata": {},
   "outputs": [
    {
     "data": {
      "image/png": "[encoded data removed]",
      "text/latex": [
       "$$\\left[\\begin{matrix}\\operatorname{cos}\\left(\\omega t\\right) \\operatorname{cos}\\left(\\varphi\\right) & \\operatorname{sin}\\left(\\omega t\\right) \\operatorname{cos}\\left(\\varphi\\right) & \\operatorname{sin}\\left(\\varphi\\right)\\\\- \\operatorname{sin}\\left(\\omega t\\right) & \\operatorname{cos}\\left(\\omega t\\right) & 0\\\\- \\operatorname{sin}\\left(\\varphi\\right) \\operatorname{cos}\\left(\\omega t\\right) & - \\operatorname{sin}\\left(\\omega t\\right) \\operatorname{sin}\\left(\\varphi\\right) & \\operatorname{cos}\\left(\\varphi\\right)\\end{matrix}\\right]$$"
      ],
      "text/plain": [
       "⎡cos(ω⋅t)⋅cos(varphi)   sin(ω⋅t)⋅cos(varphi)   sin(varphi)⎤\n",
       "⎢                                                         ⎥\n",
       "⎢      -sin(ω⋅t)              cos(ω⋅t)              0     ⎥\n",
       "⎢                                                         ⎥\n",
       "⎣-sin(varphi)⋅cos(ω⋅t)  -sin(ω⋅t)⋅sin(varphi)  cos(varphi)⎦"
      ]
     },
     "execution_count": 9,
     "metadata": {},
     "output_type": "execute_result"
    }
   ],
   "source": [
    "a.dcm(Inertial)"
   ]
  },
  {
   "cell_type": "code",
   "execution_count": 10,
   "metadata": {},
   "outputs": [
    {
     "data": {
      "image/png": "[encoded data removed]",
      "text/latex": [
       "$$\\omega \\operatorname{sin}\\left(\\varphi\\right)\\mathbf{\\hat{a}_x} + \\omega \\operatorname{cos}\\left(\\varphi\\right)\\mathbf{\\hat{a}_z}$$"
      ],
      "text/plain": [
       "ω⋅sin(varphi) a_x + ω⋅cos(varphi) a_z"
      ]
     },
     "execution_count": 10,
     "metadata": {},
     "output_type": "execute_result"
    }
   ],
   "source": [
    "b.ang_vel_in(Inertial).express(a) # Angular velocity of b in inertial_frame in terms of a-basis"
   ]
  },
  {
   "cell_type": "markdown",
   "metadata": {},
   "source": [
    "## Define points and set velocities"
   ]
  },
  {
   "cell_type": "code",
   "execution_count": 11,
   "metadata": {},
   "outputs": [
    {
     "data": {
      "image/png": "[encoded data removed]",
      "text/latex": [
       "$$-  R\\mathbf{\\hat{a}_z}$$"
      ],
      "text/plain": [
       "-R a_z"
      ]
     },
     "execution_count": 11,
     "metadata": {},
     "output_type": "execute_result"
    }
   ],
   "source": [
    "# Declare points (stores the position, velocity, and acceleration)\n",
    "O = me.Point('O') # Origo point\n",
    "A = O.locatenew('A', -R * a.z) # Mass point\n",
    "A.pos_from(O).express(a) # A little check\n",
    "#help(me.Point)"
   ]
  },
  {
   "cell_type": "code",
   "execution_count": 12,
   "metadata": {},
   "outputs": [
    {
     "data": {
      "image/png": "[encoded data removed]",
      "text/latex": [
       "$$R \\dot{\\varphi}\\mathbf{\\hat{a}_x} + R \\omega \\operatorname{sin}\\left(\\varphi\\right)\\mathbf{\\hat{a}_y}$$"
      ],
      "text/plain": [
       "R⋅varṗhi a_x + R⋅ω⋅sin(varphi) a_y"
      ]
     },
     "execution_count": 12,
     "metadata": {},
     "output_type": "execute_result"
    }
   ],
   "source": [
    "# Set point velocities\n",
    "O.set_vel(Inertial, 0*Inertial.x) # Fixes O in Inertial frame\n",
    "A.v2pt_theory(O, Inertial, a) # v_A = V_O + omega x r_OA\n",
    "A.vel(Inertial) # Velocity vector"
   ]
  },
  {
   "cell_type": "code",
   "execution_count": 13,
   "metadata": {
    "collapsed": true
   },
   "outputs": [],
   "source": [
    "# Define particle mass\n",
    "mp = me.Particle('m_p', A, m)"
   ]
  },
  {
   "cell_type": "markdown",
   "metadata": {},
   "source": [
    "## Potential Energy\n",
    "Since there are many definitions of potential energy, there is no built in function for this. The potential energy from the conservative gravity force is found by the expression from the position vector from A to O."
   ]
  },
  {
   "cell_type": "code",
   "execution_count": 16,
   "metadata": {},
   "outputs": [
    {
     "data": {
      "image/png": "[encoded data removed]",
      "text/latex": [
       "$$- R g m \\operatorname{cos}\\left(\\varphi\\right)$$"
      ],
      "text/plain": [
       "-R⋅g⋅m⋅cos(varphi)"
      ]
     },
     "execution_count": 16,
     "metadata": {},
     "output_type": "execute_result"
    }
   ],
   "source": [
    "# Set potential energy\n",
    "h = A.pos_from(O).to_matrix(Inertial)\n",
    "h\n",
    "mp.potential_energy = m * g * h[2]\n",
    "V = mp.potential_energy\n",
    "V"
   ]
  },
  {
   "cell_type": "markdown",
   "metadata": {},
   "source": [
    "## Kinetic Energy\n",
    "The built in function is used."
   ]
  },
  {
   "cell_type": "code",
   "execution_count": 17,
   "metadata": {},
   "outputs": [
    {
     "data": {
      "image/png": "[encoded data removed]",
      "text/latex": [
       "$$\\frac{R^{2} m}{2} \\left(\\omega^{2} \\operatorname{sin}^{2}\\left(\\varphi\\right) + \\dot{\\varphi}^{2}\\right)$$"
      ],
      "text/plain": [
       " 2   ⎛ 2    2                  2⎞\n",
       "R ⋅m⋅⎝ω ⋅sin (varphi) + varṗhi ⎠\n",
       "─────────────────────────────────\n",
       "                2                "
      ]
     },
     "execution_count": 17,
     "metadata": {},
     "output_type": "execute_result"
    }
   ],
   "source": [
    "T = mp.kinetic_energy(Inertial).factor()\n",
    "T"
   ]
  },
  {
   "cell_type": "markdown",
   "metadata": {},
   "source": [
    "## Langrangian\n",
    "The lagrangian is calculated manually.."
   ]
  },
  {
   "cell_type": "code",
   "execution_count": 22,
   "metadata": {},
   "outputs": [
    {
     "data": {
      "image/png": "[encoded data removed]",
      "text/latex": [
       "$$\\frac{R m}{2} \\left(R \\omega^{2} \\operatorname{sin}^{2}\\left(\\varphi\\right) + R \\dot{\\varphi}^{2} + 2 g \\operatorname{cos}\\left(\\varphi\\right)\\right)$$"
      ],
      "text/plain": [
       "    ⎛   2    2                    2                  ⎞\n",
       "R⋅m⋅⎝R⋅ω ⋅sin (varphi) + R⋅varṗhi  + 2⋅g⋅cos(varphi)⎠\n",
       "──────────────────────────────────────────────────────\n",
       "                          2                           "
      ]
     },
     "execution_count": 22,
     "metadata": {},
     "output_type": "execute_result"
    }
   ],
   "source": [
    "L = T-V\n",
    "L.factor()"
   ]
  },
  {
   "cell_type": "markdown",
   "metadata": {},
   "source": [
    "Which yields the same as the built in function..."
   ]
  },
  {
   "cell_type": "code",
   "execution_count": 21,
   "metadata": {},
   "outputs": [
    {
     "data": {
      "image/png": "[encoded data removed]",
      "text/latex": [
       "$$\\frac{R m}{2} \\left(R \\omega^{2} \\operatorname{sin}^{2}\\left(\\varphi\\right) + R \\dot{\\varphi}^{2} + 2 g \\operatorname{cos}\\left(\\varphi\\right)\\right)$$"
      ],
      "text/plain": [
       "    ⎛   2    2                    2                  ⎞\n",
       "R⋅m⋅⎝R⋅ω ⋅sin (varphi) + R⋅varṗhi  + 2⋅g⋅cos(varphi)⎠\n",
       "──────────────────────────────────────────────────────\n",
       "                          2                           "
      ]
     },
     "execution_count": 21,
     "metadata": {},
     "output_type": "execute_result"
    }
   ],
   "source": [
    "lag = me.Lagrangian(Inertial, mp)\n",
    "lag.factor()"
   ]
  },
  {
   "cell_type": "markdown",
   "metadata": {},
   "source": [
    "## Lagranges Equation\n",
    "Lagranges equation calculated manually and by the built in function."
   ]
  },
  {
   "cell_type": "code",
   "execution_count": 23,
   "metadata": {},
   "outputs": [
    {
     "data": {
      "image/png": "[encoded data removed]",
      "text/latex": [
       "$$- R^{2} m \\omega^{2} \\operatorname{sin}\\left(\\varphi\\right) \\operatorname{cos}\\left(\\varphi\\right) + R^{2} m \\ddot{\\varphi} + R g m \\operatorname{sin}\\left(\\varphi\\right)$$"
      ],
      "text/plain": [
       "   2    2                            2                              \n",
       "- R ⋅m⋅ω ⋅sin(varphi)⋅cos(varphi) + R ⋅m⋅varp̈hi + R⋅g⋅m⋅sin(varphi)"
      ]
     },
     "execution_count": 23,
     "metadata": {},
     "output_type": "execute_result"
    }
   ],
   "source": [
    "# Manual derivation, Lagranges equation\n",
    "phid = phi.diff(t)\n",
    "L.diff(phid).diff(t) - L.diff(phi)"
   ]
  },
  {
   "cell_type": "code",
   "execution_count": 24,
   "metadata": {},
   "outputs": [
    {
     "data": {
      "image/png": "[encoded data removed]",
      "text/latex": [
       "$$\\left[\\begin{matrix}- R^{2} m \\omega^{2} \\operatorname{sin}\\left(\\varphi\\right) \\operatorname{cos}\\left(\\varphi\\right) + R^{2} m \\ddot{\\varphi} + R g m \\operatorname{sin}\\left(\\varphi\\right)\\end{matrix}\\right]$$"
      ],
      "text/plain": [
       "⎡   2    2                            2                              ⎤\n",
       "⎣- R ⋅m⋅ω ⋅sin(varphi)⋅cos(varphi) + R ⋅m⋅varp̈hi + R⋅g⋅m⋅sin(varphi)⎦"
      ]
     },
     "execution_count": 24,
     "metadata": {},
     "output_type": "execute_result"
    }
   ],
   "source": [
    "# Same as above by built in function\n",
    "#help(me.Lagrangian)\n",
    "LM = me.LagrangesMethod(lag, [phi])\n",
    "LM.form_lagranges_equations()\n",
    "LM.eom"
   ]
  },
  {
   "cell_type": "markdown",
   "metadata": {},
   "source": [
    "The resulting EOMs are the same as in the example presented in lecture 8."
   ]
  }
 ],
 "metadata": {
  "kernelspec": {
   "display_name": "Python 3",
   "language": "python",
   "name": "python3"
  },
  "language_info": {
   "codemirror_mode": {
    "name": "ipython",
    "version": 3
   },
   "file_extension": ".py",
   "mimetype": "text/x-python",
   "name": "python",
   "nbconvert_exporter": "python",
   "pygments_lexer": "ipython3",
   "version": "3.6.0"
  },
  "latex_envs": {
   "LaTeX_envs_menu_present": true,
   "autocomplete": true,
   "bibliofile": "biblio.bib",
   "cite_by": "apalike",
   "current_citInitial": 1,
   "eqLabelWithNumbers": true,
   "eqNumInitial": 1,
   "hotkeys": {
    "equation": "Ctrl-E",
    "itemize": "Ctrl-I"
   },
   "labels_anchors": false,
   "latex_user_defs": false,
   "report_style_numbering": false,
   "user_envs_cfg": false
  }
 },
 "nbformat": 4,
 "nbformat_minor": 2
}
