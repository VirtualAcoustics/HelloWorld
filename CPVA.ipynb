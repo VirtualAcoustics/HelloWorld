{
 "cells": [
  {
   "cell_type": "markdown",
   "metadata": {},
   "source": [
    "# Introduction\n",
    "The purpose of this investigation is to obtain the approximate solution of the CPVA equations of motion presented in \\cite{Haddow2003a} in order to compare with numerical results."
   ]
  },
  {
   "cell_type": "markdown",
   "metadata": {},
   "source": [
    "# The equations of motion\n",
    "\n",
    "The equations of motion in \\cite{Haddow2003a} are based on \\cite{ALSUWAIYAN2002} in which \\cite{Cheng-tangLee} is referenced ad are presented below."
   ]
  },
  {
   "cell_type": "markdown",
   "metadata": {},
   "source": [
    "## Lagrange's method"
   ]
  },
  {
   "cell_type": "markdown",
   "metadata": {},
   "source": [
    "# Perturbation solution"
   ]
  },
  {
   "cell_type": "markdown",
   "metadata": {},
   "source": []
  },
  {
   "cell_type": "code",
   "execution_count": null,
   "metadata": {
    "collapsed": true
   },
   "outputs": [],
   "source": []
  },
  {
   "cell_type": "code",
   "execution_count": null,
   "metadata": {
    "collapsed": true
   },
   "outputs": [],
   "source": []
  },
  {
   "cell_type": "markdown",
   "metadata": {},
   "source": [
    "# References\n",
    "\n",
    "[<a id=\"cit-Haddow2003a\" href=\"#call-Haddow2003a\">1</a>] Haddow Alan G. and Shaw Steven W., ``_Centrifugal Pendulum Vibration Absorbers: An Experimental and Theoretical Investigation_'', Nonlinear Dynamics, vol. 34, number 3/4, pp. 293--307, dec 2003.  [online](http://link.springer.com/10.1023/B:NODY.0000013509.51299.c0)\n",
    "\n",
    "[<a id=\"cit-ALSUWAIYAN2002\" href=\"#call-ALSUWAIYAN2002\">2</a>] ALSUWAIYAN A.S. and SHAW S.W., ``_Performance and Dynamic Stability of General-Path Centrifugal Pendulum Vibration Absorbers_'', Journal of Sound and Vibration, vol. 252, number 5, pp. 791--815,  2002.  [online](http://linkinghub.elsevier.com/retrieve/pii/S0022460X0093534X)\n",
    "\n",
    "[<a id=\"cit-Cheng-tangLee\" href=\"#call-Cheng-tangLee\">3</a>] C. Lee and S.W. Shaw, ``_Torsional Vibration Reduction in Internal Combustion Engines Using Centrifugal Pendulums_'', Proceeding of the ASME Design Engineering Technical Conference,  1994.\n",
    "\n"
   ]
  },
  {
   "cell_type": "code",
   "execution_count": null,
   "metadata": {
    "collapsed": true
   },
   "outputs": [],
   "source": []
  }
 ],
 "metadata": {
  "anaconda-cloud": {},
  "kernelspec": {
   "display_name": "Python [default]",
   "language": "python",
   "name": "python3"
  },
  "language_info": {
   "codemirror_mode": {
    "name": "ipython",
    "version": 3
   },
   "file_extension": ".py",
   "mimetype": "text/x-python",
   "name": "python",
   "nbconvert_exporter": "python",
   "pygments_lexer": "ipython3",
   "version": "3.5.2"
  },
  "latex_envs": {
   "bibliofile": "library.bib",
   "cite_by": "number",
   "current_citInitial": 1,
   "eqLabelWithNumbers": true,
   "eqNumInitial": 0
  }
 },
 "nbformat": 4,
 "nbformat_minor": 1
}
